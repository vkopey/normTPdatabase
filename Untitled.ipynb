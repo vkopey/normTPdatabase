{
 "cells": [
  {
   "cell_type": "code",
   "execution_count": 1,
   "metadata": {
    "collapsed": true
   },
   "outputs": [],
   "source": [
    "from normTPdatabase import __doc__, db"
   ]
  },
  {
   "cell_type": "code",
   "execution_count": 2,
   "metadata": {
    "collapsed": false,
    "scrolled": true
   },
   "outputs": [
    {
     "name": "stdout",
     "output_type": "stream",
     "text": [
      "Введіть db[i] та db[i].__doc___ для допомоги, де i:\n",
      "0 - Основний час для точіння, розточування, свердління  \n",
      "1 - Час на установку і зняття заготовки в самоцентруючому патроні  \n"
     ]
    }
   ],
   "source": [
    "print __doc__"
   ]
  },
  {
   "cell_type": "code",
   "execution_count": 3,
   "metadata": {
    "collapsed": false
   },
   "outputs": [
    {
     "data": {
      "text/markdown": [
       "Основний час для точіння, розточування, свердління  \n",
       "$T_o = \\frac{l}{{n}{s}}$  \n",
       "де  \n",
       "*l* - довжина робочого ходу  \n",
       "*n* - частота обертів  \n",
       "*s* - подача"
      ],
      "text/plain": [
       "<IPython.core.display.Markdown object>"
      ]
     },
     "execution_count": 3,
     "metadata": {},
     "output_type": "execute_result"
    }
   ],
   "source": [
    "db[0].doc()"
   ]
  },
  {
   "cell_type": "code",
   "execution_count": 4,
   "metadata": {
    "collapsed": false
   },
   "outputs": [
    {
     "data": {
      "text/plain": [
       "1.4285714285714286"
      ]
     },
     "execution_count": 4,
     "metadata": {},
     "output_type": "execute_result"
    }
   ],
   "source": [
    "db[0](100.0,700,0.1).time()"
   ]
  },
  {
   "cell_type": "code",
   "execution_count": 5,
   "metadata": {
    "collapsed": false
   },
   "outputs": [
    {
     "data": {
      "text/markdown": [
       "Час на установку і зняття заготовки в самоцентруючому патроні  \n",
       "m - маса  \n",
       "k - тип (список типів: get_doc(db[i].data)):  \n",
       "  \n"
      ],
      "text/plain": [
       "<IPython.core.display.Markdown object>"
      ]
     },
     "metadata": {},
     "output_type": "display_data"
    },
    {
     "data": {
      "text/html": [
       "<table><tr><td>Самоцентруюючий патрон, кріплення ключем</td><td>m=0.5 t=0.15</td><td>m=1 t=0.17</td><td>m=3 t=0.23</td><td>m=5 t=0.12</td></tr><tr><td>Самоцентруюючий патрон, пневмозатиск</td><td>m=0.5 t=0.07</td><td>m=1 t=0.08</td><td>m=3 t=0.1</td><td>m=5 t=0.27</td></tr></table>"
      ],
      "text/plain": [
       "<IPython.core.display.HTML object>"
      ]
     },
     "metadata": {},
     "output_type": "display_data"
    }
   ],
   "source": [
    "db[1].doc()"
   ]
  },
  {
   "cell_type": "code",
   "execution_count": 6,
   "metadata": {
    "collapsed": false
   },
   "outputs": [
    {
     "data": {
      "text/plain": [
       "0.27"
      ]
     },
     "execution_count": 6,
     "metadata": {},
     "output_type": "execute_result"
    }
   ],
   "source": [
    "t=db[1]()\n",
    "t.gui()\n",
    "t.time()"
   ]
  },
  {
   "cell_type": "code",
   "execution_count": 9,
   "metadata": {
    "collapsed": true
   },
   "outputs": [],
   "source": [
    "def mass(d,l,ro):\n",
    "    return ro*3.14159*l*(d/2.0)**2"
   ]
  },
  {
   "cell_type": "code",
   "execution_count": 8,
   "metadata": {
    "collapsed": false
   },
   "outputs": [
    {
     "data": {
      "image/png": "[encoded data removed]",
      "text/plain": [
       "<matplotlib.figure.Figure at 0x3e59c90>"
      ]
     },
     "metadata": {},
     "output_type": "display_data"
    }
   ],
   "source": [
    "%matplotlib inline\n",
    "import matplotlib\n",
    "import matplotlib.pyplot as plt\n",
    "L=[0.0,20.0]\n",
    "T1=[0,0]\n",
    "T1[0]=db[0](L[0],700,0.1).time()+db[1](1,mass(100.0,L[0],0.000001)).time()\n",
    "T1[1]=db[0](L[1],700,0.1).time()+db[1](1,mass(100.0,L[1],0.000001)).time()\n",
    "T2=[0,0]\n",
    "T2[0]=db[0](L[0],700,0.2).time()+db[1](0,mass(100.0,L[0],0.000001)).time()\n",
    "T2[1]=db[0](L[1],700,0.2).time()+db[1](0,mass(100.0,L[1],0.000001)).time()\n",
    "plt.plot(L,T1,'r-',L,T2,'b--')\n",
    "plt.xlabel('L, mm')\n",
    "plt.ylabel('T, min')\n",
    "plt.show()"
   ]
  },
  {
   "cell_type": "code",
   "execution_count": null,
   "metadata": {
    "collapsed": true
   },
   "outputs": [],
   "source": []
  }
 ],
 "metadata": {
  "kernelspec": {
   "display_name": "Python 2",
   "language": "python",
   "name": "python2"
  },
  "language_info": {
   "codemirror_mode": {
    "name": "ipython",
    "version": 2
   },
   "file_extension": ".py",
   "mimetype": "text/x-python",
   "name": "python",
   "nbconvert_exporter": "python",
   "pygments_lexer": "ipython2",
   "version": "2.7.6"
  }
 },
 "nbformat": 4,
 "nbformat_minor": 0
}
